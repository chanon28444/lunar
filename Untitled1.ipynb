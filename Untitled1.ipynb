{
 "cells": [
  {
   "cell_type": "markdown",
   "metadata": {},
   "source": [
    "# Heading 1\n",
    "## Heading 2\n",
    "\n",
    "###### This is heading 6\n"
   ]
  },
  {
   "cell_type": "markdown",
   "metadata": {},
   "source": [
    "* coffee\n",
    "* tea\n",
    "* soft drink\n"
   ]
  },
  {
   "cell_type": "markdown",
   "metadata": {},
   "source": [
    "1. Coffee\n",
    "2. Tea\n",
    "3. Soft drink\n",
    "4. Water"
   ]
  },
  {
   "cell_type": "markdown",
   "metadata": {},
   "source": [
    "1. Coffee\n",
    "    * mocha\n",
    "    * latte\n",
    "    * espresso\n",
    "2. Tea\n",
    "    * green\n",
    "    * jasmine\n",
    "3. Soft drink\n",
    "    * coke\n",
    "        * classic\n",
    "        * diet\n",
    "4. Water"
   ]
  },
  {
   "cell_type": "markdown",
   "metadata": {},
   "source": [
    "first line.  \n",
    "second line.    \n",
    "third line.  "
   ]
  },
  {
   "cell_type": "markdown",
   "metadata": {},
   "source": [
    "The <span style=color:red>*impossible*</span> dream.  \n",
    "<span style=color:red;font-size:150%>May</span> the **force** be with you.   \n",
    "***You*** can't save the world alone.  \n",
    "Past ~~Present~~ Furture. "
   ]
  },
  {
   "cell_type": "markdown",
   "metadata": {},
   "source": [
    "### Hyperlink"
   ]
  },
  {
   "cell_type": "markdown",
   "metadata": {},
   "source": [
    " https://youtube.com  \n",
    "# [Youtube](https://youtube.com)"
   ]
  },
  {
   "cell_type": "markdown",
   "metadata": {},
   "source": [
    "* wgwr\n",
    "* gwr\n",
    "* gw\n",
    "* g\n",
    "* rwg\n",
    "* wr\n",
    "* gwr\n",
    "* gw\n",
    "* rg\n",
    "* w"
   ]
  }
 ],
 "metadata": {
  "kernelspec": {
   "display_name": "Python 3",
   "language": "python",
   "name": "python3"
  },
  "language_info": {
   "codemirror_mode": {
    "name": "ipython",
    "version": 3
   },
   "file_extension": ".py",
   "mimetype": "text/x-python",
   "name": "python",
   "nbconvert_exporter": "python",
   "pygments_lexer": "ipython3",
   "version": "3.7.6"
  }
 },
 "nbformat": 4,
 "nbformat_minor": 4
}
